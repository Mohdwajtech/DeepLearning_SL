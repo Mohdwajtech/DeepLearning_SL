{
 "cells": [
  {
   "cell_type": "markdown",
   "id": "f2015e2b-0963-4ee8-999a-1627d9f130d5",
   "metadata": {},
   "source": [
    "## Tensorflow Tutorial"
   ]
  },
  {
   "cell_type": "markdown",
   "id": "89197725-1b23-4701-802b-f5b1a2e178e6",
   "metadata": {},
   "source": [
    "### Data Types"
   ]
  },
  {
   "cell_type": "markdown",
   "id": "1185c974-dd38-4cdd-8a89-65891a882de8",
   "metadata": {},
   "source": [
    "#### 1. Scalar"
   ]
  },
  {
   "cell_type": "markdown",
   "id": "c027fe2c-e420-4635-9f17-2923820d6445",
   "metadata": {},
   "source": [
    "##### Any Real number such as 0.4, 1.9, -0.4\n",
    "##### No Dimesions, shape => []"
   ]
  },
  {
   "cell_type": "code",
   "execution_count": 2,
   "id": "8ba028dc-354c-4e4d-aea5-a2f5e25f352f",
   "metadata": {},
   "outputs": [
    {
     "name": "stderr",
     "output_type": "stream",
     "text": [
      "2023-08-10 15:18:50.694588: I tensorflow/core/platform/cpu_feature_guard.cc:193] This TensorFlow binary is optimized with oneAPI Deep Neural Network Library (oneDNN) to use the following CPU instructions in performance-critical operations:  AVX2 AVX512F FMA\n",
      "To enable them in other operations, rebuild TensorFlow with the appropriate compiler flags.\n"
     ]
    },
    {
     "name": "stdout",
     "output_type": "stream",
     "text": [
      "VOC-NOTICE: GPU memory for this assignment is capped at 1024MiB\n"
     ]
    },
    {
     "name": "stderr",
     "output_type": "stream",
     "text": [
      "2023-08-10 15:18:53.717209: E tensorflow/compiler/xla/stream_executor/cuda/cuda_driver.cc:267] failed call to cuInit: CUDA_ERROR_NO_DEVICE: no CUDA-capable device is detected\n"
     ]
    }
   ],
   "source": [
    "x = 8.3\n",
    "\n",
    "import tensorflow as tf\n",
    "\n",
    "scalar_constant = tf.constant(x)"
   ]
  },
  {
   "cell_type": "code",
   "execution_count": 3,
   "id": "ed0d71e5-f6f6-4164-b65f-796e28856716",
   "metadata": {},
   "outputs": [
    {
     "data": {
      "text/plain": [
       "(float, tensorflow.python.framework.ops.EagerTensor)"
      ]
     },
     "execution_count": 3,
     "metadata": {},
     "output_type": "execute_result"
    }
   ],
   "source": [
    "type(x), type(scalar_constant)"
   ]
  },
  {
   "cell_type": "code",
   "execution_count": 4,
   "id": "eb72f337-0e17-4fc1-8b15-fffd41dbb7ec",
   "metadata": {},
   "outputs": [
    {
     "data": {
      "text/plain": [
       "<tf.Tensor: shape=(), dtype=float32, numpy=8.3>"
      ]
     },
     "execution_count": 4,
     "metadata": {},
     "output_type": "execute_result"
    }
   ],
   "source": [
    "scalar_constant"
   ]
  },
  {
   "cell_type": "code",
   "execution_count": 5,
   "id": "359f6df7-26e9-4a33-8924-b8e857673eae",
   "metadata": {},
   "outputs": [
    {
     "data": {
      "text/plain": [
       "8.3"
      ]
     },
     "execution_count": 5,
     "metadata": {},
     "output_type": "execute_result"
    }
   ],
   "source": [
    "#Convert this to a numpy array\n",
    "\n",
    "scalar_constant.numpy()"
   ]
  },
  {
   "cell_type": "markdown",
   "id": "9cc21941-c328-457b-9882-25a1d4526452",
   "metadata": {},
   "source": [
    "#### 2. Vector"
   ]
  },
  {
   "cell_type": "markdown",
   "id": "57305031-0f15-419c-b28a-a07a79b14455",
   "metadata": {},
   "source": [
    "An ordered set of real numbers. \n",
    "\n",
    "A vector tensor will have a dimension"
   ]
  },
  {
   "cell_type": "markdown",
   "id": "a51fcb48-455c-4d4e-aa35-3d044cb544ee",
   "metadata": {},
   "source": [
    "#### 3. Matrix"
   ]
  },
  {
   "cell_type": "markdown",
   "id": "13ce8433-600d-4a32-9f1b-bfc0cd07a0b3",
   "metadata": {},
   "source": [
    "A set of vectors. It will have n rows and m columns"
   ]
  },
  {
   "cell_type": "markdown",
   "id": "2cb0e3a7-5917-467d-85ec-cfa7572aac42",
   "metadata": {},
   "source": [
    "#### 4. String"
   ]
  },
  {
   "cell_type": "code",
   "execution_count": 6,
   "id": "9a1193d3-e106-45fd-8c91-1748e3193f11",
   "metadata": {},
   "outputs": [
    {
     "data": {
      "text/plain": [
       "<tf.Tensor: shape=(1,), dtype=string, numpy=array([b'Hi How Are You?'], dtype=object)>"
      ]
     },
     "execution_count": 6,
     "metadata": {},
     "output_type": "execute_result"
    }
   ],
   "source": [
    "a = tf.constant(['Hi How Are You?'])\n",
    "a"
   ]
  },
  {
   "cell_type": "code",
   "execution_count": 7,
   "id": "eed79109-a01f-4edd-bb10-9d10df77c80d",
   "metadata": {},
   "outputs": [
    {
     "data": {
      "text/plain": [
       "<tf.Tensor: shape=(1,), dtype=string, numpy=array([b'hi how are you?'], dtype=object)>"
      ]
     },
     "execution_count": 7,
     "metadata": {},
     "output_type": "execute_result"
    }
   ],
   "source": [
    "tf.strings.lower(a)"
   ]
  },
  {
   "cell_type": "markdown",
   "id": "4e07d0b4-a907-4b79-8825-d737c132b24e",
   "metadata": {},
   "source": [
    "#### 5. Boolean"
   ]
  },
  {
   "cell_type": "code",
   "execution_count": 8,
   "id": "e8197f57-3365-4716-8bb6-00960316c44c",
   "metadata": {},
   "outputs": [
    {
     "data": {
      "text/plain": [
       "<tf.Tensor: shape=(), dtype=bool, numpy=True>"
      ]
     },
     "execution_count": 8,
     "metadata": {},
     "output_type": "execute_result"
    }
   ],
   "source": [
    "a = tf.constant(True)\n",
    "a"
   ]
  },
  {
   "cell_type": "markdown",
   "id": "edf37ac8-5a16-4391-998c-8f75bb2e00c7",
   "metadata": {},
   "source": [
    "### Create a tensor"
   ]
  },
  {
   "cell_type": "code",
   "execution_count": 9,
   "id": "8e6fdfb2-93dc-4246-b6ea-b236a14f6eaa",
   "metadata": {},
   "outputs": [
    {
     "data": {
      "text/plain": [
       "<tf.Tensor: shape=(2,), dtype=float32, numpy=array([3. , 4.5], dtype=float32)>"
      ]
     },
     "execution_count": 9,
     "metadata": {},
     "output_type": "execute_result"
    }
   ],
   "source": [
    "tf.convert_to_tensor([3, 4.5])"
   ]
  },
  {
   "cell_type": "code",
   "execution_count": 21,
   "id": "168995b8-8c4b-4e45-844d-396cb2229d56",
   "metadata": {},
   "outputs": [
    {
     "data": {
      "text/plain": [
       "<tf.Tensor: shape=(2, 2), dtype=float32, numpy=\n",
       "array([[3. , 4.5],\n",
       "       [1.1, 3.1]], dtype=float32)>"
      ]
     },
     "execution_count": 21,
     "metadata": {},
     "output_type": "execute_result"
    }
   ],
   "source": [
    "tf.convert_to_tensor([[3, 4.5], [1.1, 3.1]])"
   ]
  },
  {
   "cell_type": "code",
   "execution_count": 10,
   "id": "56f4f416-6bec-4b74-b813-2249abeb75fc",
   "metadata": {},
   "outputs": [
    {
     "data": {
      "text/plain": [
       "<tf.Tensor: shape=(2,), dtype=int32, numpy=array([ 1, 56], dtype=int32)>"
      ]
     },
     "execution_count": 10,
     "metadata": {},
     "output_type": "execute_result"
    }
   ],
   "source": [
    "tf.convert_to_tensor([1, 56])"
   ]
  },
  {
   "cell_type": "code",
   "execution_count": 11,
   "id": "bb192795-34aa-4fb6-962a-490dd7d1c291",
   "metadata": {},
   "outputs": [
    {
     "data": {
      "text/plain": [
       "<tf.Tensor: shape=(2, 2), dtype=float64, numpy=\n",
       "array([[1. , 1. ],\n",
       "       [4. , 5.1]])>"
      ]
     },
     "execution_count": 11,
     "metadata": {},
     "output_type": "execute_result"
    }
   ],
   "source": [
    "import numpy as np\n",
    "tf.convert_to_tensor(np.array([[1, 1], [4,5.1]]))"
   ]
  },
  {
   "cell_type": "code",
   "execution_count": 12,
   "id": "e690938c-67ae-461c-85bb-375ff8163762",
   "metadata": {},
   "outputs": [
    {
     "data": {
      "text/plain": [
       "<tf.Tensor: shape=(10,), dtype=float32, numpy=array([0., 0., 0., 0., 0., 0., 0., 0., 0., 0.], dtype=float32)>"
      ]
     },
     "execution_count": 12,
     "metadata": {},
     "output_type": "execute_result"
    }
   ],
   "source": [
    "#Zero tensor \n",
    "\n",
    "tf.zeros((10))"
   ]
  },
  {
   "cell_type": "code",
   "execution_count": 13,
   "id": "c4dc28fc-9b3c-4d2b-8bde-35889e571936",
   "metadata": {},
   "outputs": [
    {
     "data": {
      "text/plain": [
       "<tf.Tensor: shape=(10,), dtype=float32, numpy=array([1., 1., 1., 1., 1., 1., 1., 1., 1., 1.], dtype=float32)>"
      ]
     },
     "execution_count": 13,
     "metadata": {},
     "output_type": "execute_result"
    }
   ],
   "source": [
    "#Ones tensor \n",
    "\n",
    "tf.ones((10))"
   ]
  },
  {
   "cell_type": "code",
   "execution_count": 14,
   "id": "b172a73c-9cce-48c2-abd6-5a6499464786",
   "metadata": {},
   "outputs": [
    {
     "data": {
      "text/plain": [
       "<tf.Tensor: shape=(4, 6), dtype=float32, numpy=\n",
       "array([[1., 1., 1., 1., 1., 1.],\n",
       "       [1., 1., 1., 1., 1., 1.],\n",
       "       [1., 1., 1., 1., 1., 1.],\n",
       "       [1., 1., 1., 1., 1., 1.]], dtype=float32)>"
      ]
     },
     "execution_count": 14,
     "metadata": {},
     "output_type": "execute_result"
    }
   ],
   "source": [
    "# A matrix of ones tensors\n",
    "\n",
    "tf.ones((4,6))"
   ]
  },
  {
   "cell_type": "code",
   "execution_count": 15,
   "id": "1aedbcef-1c79-4fe6-89f5-a16465f77538",
   "metadata": {},
   "outputs": [
    {
     "data": {
      "text/plain": [
       "<tf.Tensor: shape=(10,), dtype=float32, numpy=\n",
       "array([-1.702883  , -0.26275355, -0.61462206, -0.644952  , -0.01354572,\n",
       "        0.36128685,  1.8201486 , -0.20214039,  0.9494852 ,  1.995243  ],\n",
       "      dtype=float32)>"
      ]
     },
     "execution_count": 15,
     "metadata": {},
     "output_type": "execute_result"
    }
   ],
   "source": [
    "#Creation from a distribution\n",
    "\n",
    "tf.random.normal([10])"
   ]
  },
  {
   "cell_type": "code",
   "execution_count": 16,
   "id": "c517066e-98df-4b0f-a559-c021f11650c3",
   "metadata": {},
   "outputs": [
    {
     "data": {
      "text/plain": [
       "<tf.Tensor: shape=(10,), dtype=float32, numpy=\n",
       "array([2.048321  , 3.0795329 , 6.5311613 , 0.655792  , 4.925509  ,\n",
       "       2.1163082 , 5.731296  , 0.27034068, 3.4011428 , 2.1775746 ],\n",
       "      dtype=float32)>"
      ]
     },
     "execution_count": 16,
     "metadata": {},
     "output_type": "execute_result"
    }
   ],
   "source": [
    "#A distribution of specific mean and stddev\n",
    "\n",
    "tf.random.normal([10], mean=3, stddev=2)"
   ]
  },
  {
   "cell_type": "code",
   "execution_count": 17,
   "id": "9cb9a62f-2bf9-470a-86ad-d5dcd7b3ba2e",
   "metadata": {},
   "outputs": [
    {
     "data": {
      "text/plain": [
       "<tf.Tensor: shape=(10,), dtype=float32, numpy=\n",
       "array([0.4193467 , 0.9849646 , 0.00145078, 0.92014873, 0.85804045,\n",
       "       0.97999084, 0.2648636 , 0.98791873, 0.55106795, 0.16192496],\n",
       "      dtype=float32)>"
      ]
     },
     "execution_count": 17,
     "metadata": {},
     "output_type": "execute_result"
    }
   ],
   "source": [
    "#Creation from a uniform distribution\n",
    "\n",
    "tf.random.uniform([10])"
   ]
  },
  {
   "cell_type": "code",
   "execution_count": 18,
   "id": "a4b6eceb-a488-4aad-90de-979125fb788f",
   "metadata": {},
   "outputs": [
    {
     "data": {
      "text/plain": [
       "<tf.Tensor: shape=(3, 3), dtype=float32, numpy=\n",
       "array([[-0.10480991, -0.85618424, -1.4994951 ],\n",
       "       [-1.9001081 ,  0.47008666, -1.3586289 ],\n",
       "       [-0.3847567 , -1.3713881 ,  1.1280481 ]], dtype=float32)>"
      ]
     },
     "execution_count": 18,
     "metadata": {},
     "output_type": "execute_result"
    }
   ],
   "source": [
    "#Create tensor in two dimensions from distribution\n",
    "\n",
    "tf.random.normal([3,3])"
   ]
  },
  {
   "cell_type": "code",
   "execution_count": 19,
   "id": "56c53fff-95f7-4806-b4ec-df633c6c0935",
   "metadata": {},
   "outputs": [
    {
     "data": {
      "text/plain": [
       "<tf.Tensor: shape=(11,), dtype=int32, numpy=array([ 0,  1,  2,  3,  4,  5,  6,  7,  8,  9, 10], dtype=int32)>"
      ]
     },
     "execution_count": 19,
     "metadata": {},
     "output_type": "execute_result"
    }
   ],
   "source": [
    "#create a sequence of values in a tensor\n",
    "\n",
    "tf.range(11)"
   ]
  },
  {
   "cell_type": "markdown",
   "id": "ae1f5df3-6ede-410a-bc96-24b6767e23da",
   "metadata": {},
   "source": [
    "### Basics of processing"
   ]
  },
  {
   "cell_type": "code",
   "execution_count": 20,
   "id": "acfe1d95-c8d0-4316-b323-403ee28ba145",
   "metadata": {},
   "outputs": [
    {
     "data": {
      "text/plain": [
       "<tf.Tensor: shape=(2, 3), dtype=float32, numpy=\n",
       "array([[ 4.2437477,  4.2437477,  4.2437477],\n",
       "       [-0.556467 , -0.556467 , -0.556467 ]], dtype=float32)>"
      ]
     },
     "execution_count": 20,
     "metadata": {},
     "output_type": "execute_result"
    }
   ],
   "source": [
    "#Forward pass\n",
    "x = tf.random.normal([2,4])\n",
    "weight = tf.ones([4,3])\n",
    "bias = tf.zeros([3])\n",
    "\n",
    "output = x@weight + bias\n",
    "output"
   ]
  },
  {
   "cell_type": "markdown",
   "id": "01cbdc99-67bf-4e2f-bb17-818f917d2867",
   "metadata": {},
   "source": [
    "### 3 D tensor"
   ]
  },
  {
   "cell_type": "code",
   "execution_count": null,
   "id": "adf8b1f4-d6c7-48b0-adb1-11b41bef0ae9",
   "metadata": {},
   "outputs": [],
   "source": [
    "# [sequence signals, sequence length, feature length] \n",
    "\n",
    "sent1 = 'I am happy'\n",
    "sent2 = 'I am sad'\n",
    "sent3 = 'I play cricket'\n",
    "\n",
    "vect_sent1 = [10, 13, 40]\n",
    "vect_sent2 = [10, 13, 45]\n",
    "vect_sent3 = [10, 12, 23]\n",
    "\n",
    "# 3D Tensor [no of sentences, number of words in sentence, the representation of each word]\n",
    "#           [3, 3, 1]"
   ]
  }
 ],
 "metadata": {
  "kernelspec": {
   "display_name": "Python 3 [3.10]",
   "language": "python",
   "name": "python3"
  },
  "language_info": {
   "codemirror_mode": {
    "name": "ipython",
    "version": 3
   },
   "file_extension": ".py",
   "mimetype": "text/x-python",
   "name": "python",
   "nbconvert_exporter": "python",
   "pygments_lexer": "ipython3",
   "version": "3.10.2"
  }
 },
 "nbformat": 4,
 "nbformat_minor": 5
}
