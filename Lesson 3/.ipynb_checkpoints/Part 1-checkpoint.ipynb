{
 "cells": [
  {
   "cell_type": "markdown",
   "metadata": {},
   "source": [
    "### MLP for the two circles problem"
   ]
  },
  {
   "cell_type": "code",
   "execution_count": 1,
   "metadata": {},
   "outputs": [
    {
     "name": "stderr",
     "output_type": "stream",
     "text": [
      "2023-08-14 15:53:35.763605: I tensorflow/core/platform/cpu_feature_guard.cc:193] This TensorFlow binary is optimized with oneAPI Deep Neural Network Library (oneDNN) to use the following CPU instructions in performance-critical operations:  AVX2 AVX512F FMA\n",
      "To enable them in other operations, rebuild TensorFlow with the appropriate compiler flags.\n"
     ]
    },
    {
     "name": "stdout",
     "output_type": "stream",
     "text": [
      "VOC-NOTICE: GPU memory for this assignment is capped at 1024MiB\n"
     ]
    },
    {
     "name": "stderr",
     "output_type": "stream",
     "text": [
      "2023-08-14 15:53:38.514947: E tensorflow/compiler/xla/stream_executor/cuda/cuda_driver.cc:267] failed call to cuInit: CUDA_ERROR_NO_DEVICE: no CUDA-capable device is detected\n"
     ]
    }
   ],
   "source": [
    "import numpy as np\n",
    "from sklearn.datasets import make_circles\n",
    "from keras.models import Sequential\n",
    "from keras.layers import Dense\n",
    "from keras.optimizers import SGD\n",
    "from matplotlib import pyplot"
   ]
  },
  {
   "cell_type": "markdown",
   "metadata": {},
   "source": [
    "### Generate 2d classification dataset"
   ]
  },
  {
   "cell_type": "code",
   "execution_count": 2,
   "metadata": {},
   "outputs": [],
   "source": [
    "X, y = make_circles(n_samples=1000, noise=0.1, random_state=1)"
   ]
  },
  {
   "cell_type": "code",
   "execution_count": 3,
   "metadata": {},
   "outputs": [
    {
     "data": {
      "text/plain": [
       "((1000, 2), array([0, 1]))"
      ]
     },
     "execution_count": 3,
     "metadata": {},
     "output_type": "execute_result"
    }
   ],
   "source": [
    "X.shape, np.unique(y)"
   ]
  },
  {
   "cell_type": "markdown",
   "metadata": {},
   "source": [
    "### split into train and test"
   ]
  },
  {
   "cell_type": "code",
   "execution_count": 4,
   "metadata": {},
   "outputs": [],
   "source": [
    "n_train = 500\n",
    "trainX, testX = X[:n_train, :], X[n_train:, :]\n",
    "trainy, testy = y[:n_train], y[n_train:]"
   ]
  },
  {
   "cell_type": "markdown",
   "metadata": {},
   "source": [
    "### Define model"
   ]
  },
  {
   "cell_type": "code",
   "execution_count": 5,
   "metadata": {},
   "outputs": [
    {
     "name": "stderr",
     "output_type": "stream",
     "text": [
      "/usr/local/lib/python3.10/site-packages/keras/optimizers/optimizer_v2/gradient_descent.py:114: UserWarning: The `lr` argument is deprecated, use `learning_rate` instead.\n",
      "  super().__init__(name, **kwargs)\n"
     ]
    }
   ],
   "source": [
    "model = Sequential()\n",
    "model.add(Dense(50, input_dim=2, activation='relu'))\n",
    "model.add(Dense(1, activation='sigmoid'))\n",
    "opt = SGD(lr=0.01)\n",
    "model.compile(loss='binary_crossentropy', optimizer=opt, metrics=['accuracy'])"
   ]
  },
  {
   "cell_type": "markdown",
   "metadata": {},
   "source": [
    "### Fit model"
   ]
  },
  {
   "cell_type": "code",
   "execution_count": 6,
   "metadata": {},
   "outputs": [
    {
     "name": "stdout",
     "output_type": "stream",
     "text": [
      "Epoch 1/100\n",
      "16/16 [==============================] - 1s 17ms/step - loss: 0.6926 - accuracy: 0.4880 - val_loss: 0.6914 - val_accuracy: 0.5100\n",
      "Epoch 2/100\n",
      "16/16 [==============================] - 0s 4ms/step - loss: 0.6921 - accuracy: 0.4880 - val_loss: 0.6911 - val_accuracy: 0.5100\n",
      "Epoch 3/100\n",
      "16/16 [==============================] - 0s 4ms/step - loss: 0.6916 - accuracy: 0.4880 - val_loss: 0.6908 - val_accuracy: 0.5100\n",
      "Epoch 4/100\n",
      "16/16 [==============================] - 0s 4ms/step - loss: 0.6911 - accuracy: 0.4920 - val_loss: 0.6905 - val_accuracy: 0.5140\n",
      "Epoch 5/100\n",
      "16/16 [==============================] - 0s 4ms/step - loss: 0.6906 - accuracy: 0.4920 - val_loss: 0.6903 - val_accuracy: 0.5140\n",
      "Epoch 6/100\n",
      "16/16 [==============================] - 0s 4ms/step - loss: 0.6901 - accuracy: 0.4980 - val_loss: 0.6900 - val_accuracy: 0.5180\n",
      "Epoch 7/100\n",
      "16/16 [==============================] - 0s 4ms/step - loss: 0.6896 - accuracy: 0.4940 - val_loss: 0.6899 - val_accuracy: 0.5120\n",
      "Epoch 8/100\n",
      "16/16 [==============================] - 0s 4ms/step - loss: 0.6893 - accuracy: 0.5000 - val_loss: 0.6897 - val_accuracy: 0.5120\n",
      "Epoch 9/100\n",
      "16/16 [==============================] - 0s 4ms/step - loss: 0.6889 - accuracy: 0.5020 - val_loss: 0.6895 - val_accuracy: 0.5140\n",
      "Epoch 10/100\n",
      "16/16 [==============================] - 0s 4ms/step - loss: 0.6885 - accuracy: 0.5000 - val_loss: 0.6893 - val_accuracy: 0.5160\n",
      "Epoch 11/100\n",
      "16/16 [==============================] - 0s 5ms/step - loss: 0.6881 - accuracy: 0.5020 - val_loss: 0.6891 - val_accuracy: 0.5180\n",
      "Epoch 12/100\n",
      "16/16 [==============================] - 0s 4ms/step - loss: 0.6877 - accuracy: 0.5020 - val_loss: 0.6890 - val_accuracy: 0.5180\n",
      "Epoch 13/100\n",
      "16/16 [==============================] - 0s 4ms/step - loss: 0.6874 - accuracy: 0.4980 - val_loss: 0.6888 - val_accuracy: 0.5180\n",
      "Epoch 14/100\n",
      "16/16 [==============================] - 0s 4ms/step - loss: 0.6871 - accuracy: 0.5000 - val_loss: 0.6886 - val_accuracy: 0.5200\n",
      "Epoch 15/100\n",
      "16/16 [==============================] - 0s 4ms/step - loss: 0.6866 - accuracy: 0.5020 - val_loss: 0.6885 - val_accuracy: 0.5260\n",
      "Epoch 16/100\n",
      "16/16 [==============================] - 0s 4ms/step - loss: 0.6863 - accuracy: 0.5100 - val_loss: 0.6883 - val_accuracy: 0.5260\n",
      "Epoch 17/100\n",
      "16/16 [==============================] - 0s 4ms/step - loss: 0.6860 - accuracy: 0.5100 - val_loss: 0.6882 - val_accuracy: 0.5260\n",
      "Epoch 18/100\n",
      "16/16 [==============================] - 0s 4ms/step - loss: 0.6857 - accuracy: 0.5120 - val_loss: 0.6880 - val_accuracy: 0.5260\n",
      "Epoch 19/100\n",
      "16/16 [==============================] - 0s 4ms/step - loss: 0.6853 - accuracy: 0.5240 - val_loss: 0.6879 - val_accuracy: 0.5400\n",
      "Epoch 20/100\n",
      "16/16 [==============================] - 0s 4ms/step - loss: 0.6850 - accuracy: 0.5380 - val_loss: 0.6878 - val_accuracy: 0.5480\n",
      "Epoch 21/100\n",
      "16/16 [==============================] - 0s 3ms/step - loss: 0.6847 - accuracy: 0.5500 - val_loss: 0.6877 - val_accuracy: 0.5540\n",
      "Epoch 22/100\n",
      "16/16 [==============================] - 0s 4ms/step - loss: 0.6844 - accuracy: 0.5560 - val_loss: 0.6875 - val_accuracy: 0.5660\n",
      "Epoch 23/100\n",
      "16/16 [==============================] - 0s 4ms/step - loss: 0.6841 - accuracy: 0.5720 - val_loss: 0.6874 - val_accuracy: 0.5780\n",
      "Epoch 24/100\n",
      "16/16 [==============================] - 0s 3ms/step - loss: 0.6838 - accuracy: 0.5840 - val_loss: 0.6873 - val_accuracy: 0.5740\n",
      "Epoch 25/100\n",
      "16/16 [==============================] - 0s 4ms/step - loss: 0.6835 - accuracy: 0.5920 - val_loss: 0.6871 - val_accuracy: 0.5660\n",
      "Epoch 26/100\n",
      "16/16 [==============================] - 0s 4ms/step - loss: 0.6833 - accuracy: 0.5860 - val_loss: 0.6870 - val_accuracy: 0.5700\n",
      "Epoch 27/100\n",
      "16/16 [==============================] - 0s 4ms/step - loss: 0.6830 - accuracy: 0.5840 - val_loss: 0.6869 - val_accuracy: 0.5800\n",
      "Epoch 28/100\n",
      "16/16 [==============================] - 0s 4ms/step - loss: 0.6827 - accuracy: 0.5920 - val_loss: 0.6868 - val_accuracy: 0.5640\n",
      "Epoch 29/100\n",
      "16/16 [==============================] - 0s 4ms/step - loss: 0.6825 - accuracy: 0.5860 - val_loss: 0.6867 - val_accuracy: 0.5620\n",
      "Epoch 30/100\n",
      "16/16 [==============================] - 0s 4ms/step - loss: 0.6822 - accuracy: 0.5840 - val_loss: 0.6866 - val_accuracy: 0.5620\n",
      "Epoch 31/100\n",
      "16/16 [==============================] - 0s 4ms/step - loss: 0.6819 - accuracy: 0.5980 - val_loss: 0.6864 - val_accuracy: 0.5620\n",
      "Epoch 32/100\n",
      "16/16 [==============================] - 0s 4ms/step - loss: 0.6817 - accuracy: 0.5940 - val_loss: 0.6864 - val_accuracy: 0.5620\n",
      "Epoch 33/100\n",
      "16/16 [==============================] - 0s 4ms/step - loss: 0.6815 - accuracy: 0.5940 - val_loss: 0.6862 - val_accuracy: 0.5640\n",
      "Epoch 34/100\n",
      "16/16 [==============================] - 0s 4ms/step - loss: 0.6812 - accuracy: 0.6040 - val_loss: 0.6861 - val_accuracy: 0.5620\n",
      "Epoch 35/100\n",
      "16/16 [==============================] - 0s 3ms/step - loss: 0.6809 - accuracy: 0.6000 - val_loss: 0.6860 - val_accuracy: 0.5680\n",
      "Epoch 36/100\n",
      "16/16 [==============================] - 0s 4ms/step - loss: 0.6807 - accuracy: 0.5900 - val_loss: 0.6859 - val_accuracy: 0.5640\n",
      "Epoch 37/100\n",
      "16/16 [==============================] - 0s 5ms/step - loss: 0.6805 - accuracy: 0.5960 - val_loss: 0.6858 - val_accuracy: 0.5600\n",
      "Epoch 38/100\n",
      "16/16 [==============================] - 0s 4ms/step - loss: 0.6802 - accuracy: 0.5940 - val_loss: 0.6857 - val_accuracy: 0.5660\n",
      "Epoch 39/100\n",
      "16/16 [==============================] - 0s 4ms/step - loss: 0.6800 - accuracy: 0.5920 - val_loss: 0.6856 - val_accuracy: 0.5540\n",
      "Epoch 40/100\n",
      "16/16 [==============================] - 0s 5ms/step - loss: 0.6797 - accuracy: 0.5940 - val_loss: 0.6855 - val_accuracy: 0.5540\n",
      "Epoch 41/100\n",
      "16/16 [==============================] - 0s 4ms/step - loss: 0.6795 - accuracy: 0.5940 - val_loss: 0.6853 - val_accuracy: 0.5580\n",
      "Epoch 42/100\n",
      "16/16 [==============================] - 0s 4ms/step - loss: 0.6793 - accuracy: 0.5860 - val_loss: 0.6852 - val_accuracy: 0.5660\n",
      "Epoch 43/100\n",
      "16/16 [==============================] - 0s 4ms/step - loss: 0.6790 - accuracy: 0.5920 - val_loss: 0.6851 - val_accuracy: 0.5600\n",
      "Epoch 44/100\n",
      "16/16 [==============================] - 0s 4ms/step - loss: 0.6788 - accuracy: 0.5860 - val_loss: 0.6850 - val_accuracy: 0.5600\n",
      "Epoch 45/100\n",
      "16/16 [==============================] - 0s 4ms/step - loss: 0.6786 - accuracy: 0.5900 - val_loss: 0.6849 - val_accuracy: 0.5620\n",
      "Epoch 46/100\n",
      "16/16 [==============================] - 0s 5ms/step - loss: 0.6784 - accuracy: 0.5880 - val_loss: 0.6848 - val_accuracy: 0.5640\n",
      "Epoch 47/100\n",
      "16/16 [==============================] - 0s 4ms/step - loss: 0.6782 - accuracy: 0.5820 - val_loss: 0.6847 - val_accuracy: 0.5660\n",
      "Epoch 48/100\n",
      "16/16 [==============================] - 0s 4ms/step - loss: 0.6779 - accuracy: 0.5840 - val_loss: 0.6845 - val_accuracy: 0.5640\n",
      "Epoch 49/100\n",
      "16/16 [==============================] - 0s 4ms/step - loss: 0.6778 - accuracy: 0.5900 - val_loss: 0.6844 - val_accuracy: 0.5640\n",
      "Epoch 50/100\n",
      "16/16 [==============================] - 0s 4ms/step - loss: 0.6775 - accuracy: 0.5920 - val_loss: 0.6843 - val_accuracy: 0.5640\n",
      "Epoch 51/100\n",
      "16/16 [==============================] - 0s 4ms/step - loss: 0.6773 - accuracy: 0.5880 - val_loss: 0.6842 - val_accuracy: 0.5660\n",
      "Epoch 52/100\n",
      "16/16 [==============================] - 0s 4ms/step - loss: 0.6771 - accuracy: 0.5920 - val_loss: 0.6841 - val_accuracy: 0.5660\n",
      "Epoch 53/100\n",
      "16/16 [==============================] - 0s 3ms/step - loss: 0.6769 - accuracy: 0.5900 - val_loss: 0.6840 - val_accuracy: 0.5620\n",
      "Epoch 54/100\n",
      "16/16 [==============================] - 0s 4ms/step - loss: 0.6767 - accuracy: 0.6020 - val_loss: 0.6839 - val_accuracy: 0.5620\n",
      "Epoch 55/100\n",
      "16/16 [==============================] - 0s 4ms/step - loss: 0.6765 - accuracy: 0.5940 - val_loss: 0.6838 - val_accuracy: 0.5640\n",
      "Epoch 56/100\n",
      "16/16 [==============================] - 0s 4ms/step - loss: 0.6763 - accuracy: 0.5980 - val_loss: 0.6836 - val_accuracy: 0.5640\n",
      "Epoch 57/100\n",
      "16/16 [==============================] - 0s 5ms/step - loss: 0.6761 - accuracy: 0.6000 - val_loss: 0.6835 - val_accuracy: 0.5640\n",
      "Epoch 58/100\n",
      "16/16 [==============================] - 0s 4ms/step - loss: 0.6759 - accuracy: 0.6000 - val_loss: 0.6834 - val_accuracy: 0.5680\n",
      "Epoch 59/100\n",
      "16/16 [==============================] - 0s 4ms/step - loss: 0.6757 - accuracy: 0.5980 - val_loss: 0.6833 - val_accuracy: 0.5700\n",
      "Epoch 60/100\n",
      "16/16 [==============================] - 0s 4ms/step - loss: 0.6754 - accuracy: 0.6040 - val_loss: 0.6832 - val_accuracy: 0.5700\n",
      "Epoch 61/100\n",
      "16/16 [==============================] - 0s 4ms/step - loss: 0.6754 - accuracy: 0.6040 - val_loss: 0.6831 - val_accuracy: 0.5660\n",
      "Epoch 62/100\n",
      "16/16 [==============================] - 0s 4ms/step - loss: 0.6751 - accuracy: 0.6000 - val_loss: 0.6829 - val_accuracy: 0.5620\n",
      "Epoch 63/100\n",
      "16/16 [==============================] - 0s 4ms/step - loss: 0.6750 - accuracy: 0.5960 - val_loss: 0.6828 - val_accuracy: 0.5640\n",
      "Epoch 64/100\n",
      "16/16 [==============================] - 0s 4ms/step - loss: 0.6747 - accuracy: 0.6020 - val_loss: 0.6827 - val_accuracy: 0.5640\n",
      "Epoch 65/100\n",
      "16/16 [==============================] - 0s 4ms/step - loss: 0.6745 - accuracy: 0.6040 - val_loss: 0.6826 - val_accuracy: 0.5580\n",
      "Epoch 66/100\n",
      "16/16 [==============================] - 0s 5ms/step - loss: 0.6743 - accuracy: 0.6100 - val_loss: 0.6825 - val_accuracy: 0.5580\n",
      "Epoch 67/100\n",
      "16/16 [==============================] - 0s 4ms/step - loss: 0.6741 - accuracy: 0.6020 - val_loss: 0.6824 - val_accuracy: 0.5600\n",
      "Epoch 68/100\n",
      "16/16 [==============================] - 0s 4ms/step - loss: 0.6739 - accuracy: 0.6020 - val_loss: 0.6823 - val_accuracy: 0.5580\n",
      "Epoch 69/100\n",
      "16/16 [==============================] - 0s 5ms/step - loss: 0.6737 - accuracy: 0.6020 - val_loss: 0.6821 - val_accuracy: 0.5560\n",
      "Epoch 70/100\n",
      "16/16 [==============================] - 0s 4ms/step - loss: 0.6735 - accuracy: 0.5920 - val_loss: 0.6820 - val_accuracy: 0.5560\n",
      "Epoch 71/100\n",
      "16/16 [==============================] - 0s 4ms/step - loss: 0.6733 - accuracy: 0.5980 - val_loss: 0.6818 - val_accuracy: 0.5520\n",
      "Epoch 72/100\n",
      "16/16 [==============================] - 0s 5ms/step - loss: 0.6731 - accuracy: 0.5960 - val_loss: 0.6817 - val_accuracy: 0.5500\n",
      "Epoch 73/100\n",
      "16/16 [==============================] - 0s 4ms/step - loss: 0.6729 - accuracy: 0.5960 - val_loss: 0.6815 - val_accuracy: 0.5520\n",
      "Epoch 74/100\n",
      "16/16 [==============================] - 0s 4ms/step - loss: 0.6727 - accuracy: 0.5940 - val_loss: 0.6814 - val_accuracy: 0.5540\n",
      "Epoch 75/100\n",
      "16/16 [==============================] - 0s 4ms/step - loss: 0.6725 - accuracy: 0.5920 - val_loss: 0.6812 - val_accuracy: 0.5500\n",
      "Epoch 76/100\n",
      "16/16 [==============================] - 0s 4ms/step - loss: 0.6722 - accuracy: 0.5920 - val_loss: 0.6811 - val_accuracy: 0.5540\n",
      "Epoch 77/100\n",
      "16/16 [==============================] - 0s 4ms/step - loss: 0.6721 - accuracy: 0.5860 - val_loss: 0.6809 - val_accuracy: 0.5520\n",
      "Epoch 78/100\n",
      "16/16 [==============================] - 0s 5ms/step - loss: 0.6719 - accuracy: 0.5880 - val_loss: 0.6808 - val_accuracy: 0.5560\n",
      "Epoch 79/100\n",
      "16/16 [==============================] - 0s 4ms/step - loss: 0.6717 - accuracy: 0.5860 - val_loss: 0.6806 - val_accuracy: 0.5540\n",
      "Epoch 80/100\n",
      "16/16 [==============================] - 0s 4ms/step - loss: 0.6715 - accuracy: 0.5880 - val_loss: 0.6805 - val_accuracy: 0.5540\n",
      "Epoch 81/100\n",
      "16/16 [==============================] - 0s 4ms/step - loss: 0.6713 - accuracy: 0.5900 - val_loss: 0.6804 - val_accuracy: 0.5560\n",
      "Epoch 82/100\n",
      "16/16 [==============================] - 0s 4ms/step - loss: 0.6712 - accuracy: 0.5880 - val_loss: 0.6802 - val_accuracy: 0.5620\n",
      "Epoch 83/100\n",
      "16/16 [==============================] - 0s 4ms/step - loss: 0.6710 - accuracy: 0.5880 - val_loss: 0.6801 - val_accuracy: 0.5620\n",
      "Epoch 84/100\n",
      "16/16 [==============================] - 0s 4ms/step - loss: 0.6708 - accuracy: 0.5880 - val_loss: 0.6799 - val_accuracy: 0.5600\n",
      "Epoch 85/100\n",
      "16/16 [==============================] - 0s 4ms/step - loss: 0.6707 - accuracy: 0.6020 - val_loss: 0.6798 - val_accuracy: 0.5600\n",
      "Epoch 86/100\n",
      "16/16 [==============================] - 0s 4ms/step - loss: 0.6704 - accuracy: 0.5940 - val_loss: 0.6797 - val_accuracy: 0.5600\n",
      "Epoch 87/100\n",
      "16/16 [==============================] - 0s 4ms/step - loss: 0.6703 - accuracy: 0.5880 - val_loss: 0.6796 - val_accuracy: 0.5620\n",
      "Epoch 88/100\n",
      "16/16 [==============================] - 0s 4ms/step - loss: 0.6700 - accuracy: 0.5960 - val_loss: 0.6795 - val_accuracy: 0.5560\n",
      "Epoch 89/100\n",
      "16/16 [==============================] - 0s 4ms/step - loss: 0.6699 - accuracy: 0.5920 - val_loss: 0.6793 - val_accuracy: 0.5600\n",
      "Epoch 90/100\n",
      "16/16 [==============================] - 0s 3ms/step - loss: 0.6697 - accuracy: 0.5980 - val_loss: 0.6792 - val_accuracy: 0.5540\n",
      "Epoch 91/100\n",
      "16/16 [==============================] - 0s 3ms/step - loss: 0.6695 - accuracy: 0.5920 - val_loss: 0.6791 - val_accuracy: 0.5520\n",
      "Epoch 92/100\n",
      "16/16 [==============================] - 0s 3ms/step - loss: 0.6693 - accuracy: 0.5900 - val_loss: 0.6789 - val_accuracy: 0.5540\n",
      "Epoch 93/100\n",
      "16/16 [==============================] - 0s 3ms/step - loss: 0.6691 - accuracy: 0.5920 - val_loss: 0.6788 - val_accuracy: 0.5580\n",
      "Epoch 94/100\n",
      "16/16 [==============================] - 0s 3ms/step - loss: 0.6690 - accuracy: 0.5900 - val_loss: 0.6787 - val_accuracy: 0.5580\n",
      "Epoch 95/100\n",
      "16/16 [==============================] - 0s 3ms/step - loss: 0.6688 - accuracy: 0.5860 - val_loss: 0.6785 - val_accuracy: 0.5600\n",
      "Epoch 96/100\n",
      "16/16 [==============================] - 0s 3ms/step - loss: 0.6686 - accuracy: 0.5960 - val_loss: 0.6784 - val_accuracy: 0.5600\n",
      "Epoch 97/100\n",
      "16/16 [==============================] - 0s 3ms/step - loss: 0.6684 - accuracy: 0.5940 - val_loss: 0.6782 - val_accuracy: 0.5640\n",
      "Epoch 98/100\n",
      "16/16 [==============================] - 0s 3ms/step - loss: 0.6683 - accuracy: 0.5960 - val_loss: 0.6781 - val_accuracy: 0.5640\n",
      "Epoch 99/100\n",
      "16/16 [==============================] - 0s 3ms/step - loss: 0.6681 - accuracy: 0.5940 - val_loss: 0.6780 - val_accuracy: 0.5640\n",
      "Epoch 100/100\n",
      "16/16 [==============================] - 0s 3ms/step - loss: 0.6679 - accuracy: 0.5920 - val_loss: 0.6779 - val_accuracy: 0.5680\n"
     ]
    }
   ],
   "source": [
    "history = model.fit(trainX, trainy, validation_data=(testX, testy), epochs=100, verbose=1)"
   ]
  },
  {
   "cell_type": "markdown",
   "metadata": {},
   "source": [
    "### Evaluate the model"
   ]
  },
  {
   "cell_type": "code",
   "execution_count": 7,
   "metadata": {},
   "outputs": [
    {
     "name": "stdout",
     "output_type": "stream",
     "text": [
      "Train: 0.598, Test: 0.568\n"
     ]
    }
   ],
   "source": [
    "_, train_acc = model.evaluate(trainX, trainy, verbose=0)\n",
    "_, test_acc = model.evaluate(testX, testy, verbose=0)\n",
    "print('Train: %.3f, Test: %.3f' % (train_acc, test_acc))"
   ]
  },
  {
   "cell_type": "markdown",
   "metadata": {},
   "source": [
    "### Plot history"
   ]
  },
  {
   "cell_type": "code",
   "execution_count": 8,
   "metadata": {},
   "outputs": [
    {
     "data": {
      "image/png": "[encoded data removed]",
      "text/plain": [
       "<Figure size 432x288 with 1 Axes>"
      ]
     },
     "metadata": {
      "needs_background": "light"
     },
     "output_type": "display_data"
    }
   ],
   "source": [
    "pyplot.plot(history.history['accuracy'], label='train')\n",
    "pyplot.plot(history.history['val_accuracy'], label='test')\n",
    "pyplot.legend()\n",
    "pyplot.show()"
   ]
  },
  {
   "cell_type": "code",
   "execution_count": null,
   "metadata": {},
   "outputs": [],
   "source": []
  },
  {
   "cell_type": "code",
   "execution_count": null,
   "metadata": {},
   "outputs": [],
   "source": []
  },
  {
   "cell_type": "code",
   "execution_count": null,
   "metadata": {},
   "outputs": [],
   "source": []
  },
  {
   "cell_type": "code",
   "execution_count": null,
   "metadata": {},
   "outputs": [],
   "source": []
  },
  {
   "cell_type": "code",
   "execution_count": null,
   "metadata": {},
   "outputs": [],
   "source": []
  },
  {
   "cell_type": "code",
   "execution_count": null,
   "metadata": {},
   "outputs": [],
   "source": []
  },
  {
   "cell_type": "code",
   "execution_count": null,
   "metadata": {},
   "outputs": [],
   "source": []
  },
  {
   "cell_type": "code",
   "execution_count": null,
   "metadata": {},
   "outputs": [],
   "source": []
  },
  {
   "cell_type": "code",
   "execution_count": null,
   "metadata": {},
   "outputs": [],
   "source": []
  },
  {
   "cell_type": "code",
   "execution_count": null,
   "metadata": {},
   "outputs": [],
   "source": []
  },
  {
   "cell_type": "code",
   "execution_count": null,
   "metadata": {},
   "outputs": [],
   "source": []
  },
  {
   "cell_type": "code",
   "execution_count": null,
   "metadata": {},
   "outputs": [],
   "source": []
  },
  {
   "cell_type": "code",
   "execution_count": null,
   "metadata": {},
   "outputs": [],
   "source": []
  },
  {
   "cell_type": "code",
   "execution_count": null,
   "metadata": {},
   "outputs": [],
   "source": []
  },
  {
   "cell_type": "code",
   "execution_count": null,
   "metadata": {},
   "outputs": [],
   "source": []
  },
  {
   "cell_type": "code",
   "execution_count": null,
   "metadata": {},
   "outputs": [],
   "source": []
  },
  {
   "cell_type": "code",
   "execution_count": null,
   "metadata": {},
   "outputs": [],
   "source": []
  },
  {
   "cell_type": "code",
   "execution_count": null,
   "metadata": {},
   "outputs": [],
   "source": []
  },
  {
   "cell_type": "code",
   "execution_count": null,
   "metadata": {},
   "outputs": [],
   "source": []
  },
  {
   "cell_type": "code",
   "execution_count": null,
   "metadata": {},
   "outputs": [],
   "source": []
  },
  {
   "cell_type": "code",
   "execution_count": null,
   "metadata": {},
   "outputs": [],
   "source": []
  },
  {
   "cell_type": "code",
   "execution_count": null,
   "metadata": {},
   "outputs": [],
   "source": []
  },
  {
   "cell_type": "code",
   "execution_count": null,
   "metadata": {},
   "outputs": [],
   "source": []
  },
  {
   "cell_type": "code",
   "execution_count": null,
   "metadata": {},
   "outputs": [],
   "source": []
  }
 ],
 "metadata": {
  "kernelspec": {
   "display_name": "Python 3 [3.10]",
   "language": "python",
   "name": "python3"
  },
  "language_info": {
   "codemirror_mode": {
    "name": "ipython",
    "version": 3
   },
   "file_extension": ".py",
   "mimetype": "text/x-python",
   "name": "python",
   "nbconvert_exporter": "python",
   "pygments_lexer": "ipython3",
   "version": "3.10.2"
  }
 },
 "nbformat": 4,
 "nbformat_minor": 4
}
